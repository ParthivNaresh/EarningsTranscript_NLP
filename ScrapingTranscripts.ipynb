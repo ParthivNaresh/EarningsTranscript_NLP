{
 "cells": [
  {
   "cell_type": "code",
   "execution_count": 1,
   "metadata": {},
   "outputs": [
    {
     "data": {
      "text/html": [
       "<style>.container { width:100% !important; }</style>"
      ],
      "text/plain": [
       "<IPython.core.display.HTML object>"
      ]
     },
     "metadata": {},
     "output_type": "display_data"
    }
   ],
   "source": [
    "import re\n",
    "import copy\n",
    "import pickle\n",
    "import requests\n",
    "import pandas as pd\n",
    "from tqdm.notebook import tqdm\n",
    "from bs4 import BeautifulSoup\n",
    "from IPython.core.display import display, HTML\n",
    "display(HTML(\"<style>.container { width:100% !important; }</style>\"))"
   ]
  },
  {
   "cell_type": "code",
   "execution_count": 2,
   "metadata": {},
   "outputs": [],
   "source": [
    "BASE_URL = 'https://www.fool.com'\n",
    "EARNINGS_BASE_URL = 'https://www.fool.com/earnings-call-transcripts/?page='"
   ]
  },
  {
   "cell_type": "code",
   "execution_count": 3,
   "metadata": {},
   "outputs": [],
   "source": [
    "# Return source code for every page in the range specified\n",
    "def get_pages(pages):\n",
    "    pbar = tqdm(total=pages, ncols=1000, bar_format='{l_bar}{bar}{n_fmt}/{total_fmt}')\n",
    "    page_list = []\n",
    "    for page_ in range(1, pages+1):\n",
    "        pbar.update(1)\n",
    "        pbar.set_description(\"Processing page %s\" % page_)\n",
    "        transcripts_response = requests.get(f'{EARNINGS_BASE_URL}{page_}')\n",
    "        if transcripts_response.status_code==403:\n",
    "            print(403)\n",
    "            break\n",
    "        transcripts_response_bs = BeautifulSoup(transcripts_response.content, 'html.parser')\n",
    "        transcripts_ = transcripts_response_bs.find(\"div\", {\"class\":\"list-content\", \"id\":f\"page-{page_}\"})\n",
    "        page_list.append(transcripts_)\n",
    "    return page_list"
   ]
  },
  {
   "cell_type": "code",
   "execution_count": 4,
   "metadata": {},
   "outputs": [
    {
     "data": {
      "application/vnd.jupyter.widget-view+json": {
       "model_id": "9bac58f30498463fb465d1a2c7cc1aa8",
       "version_major": 2,
       "version_minor": 0
      },
      "text/plain": [
       "HBox(children=(FloatProgress(value=0.0, layout=Layout(flex='2'), max=30.0), HTML(value='')), layout=Layout(dis…"
      ]
     },
     "metadata": {},
     "output_type": "display_data"
    },
    {
     "name": "stdout",
     "output_type": "stream",
     "text": [
      "30 pages of transcripts\n"
     ]
    }
   ],
   "source": [
    "pages = get_pages(30)\n",
    "print(f'{len(pages)} pages of transcripts')"
   ]
  },
  {
   "cell_type": "code",
   "execution_count": 5,
   "metadata": {},
   "outputs": [],
   "source": [
    "# Returnd ticker\n",
    "def get_ticker_title(heading_title):\n",
    "    matched_ticker = re.findall('\\(([A-Z]*)\\)', heading_title)\n",
    "    if len(matched_ticker) != 1:\n",
    "        return None\n",
    "    return matched_ticker[0]"
   ]
  },
  {
   "cell_type": "code",
   "execution_count": 6,
   "metadata": {},
   "outputs": [],
   "source": [
    "def get_company_name(heading_title, ticker_):\n",
    "    matched_company = re.findall(f'(.+)\\s\\({ticker_}', heading_title)\n",
    "    if matched_company:\n",
    "        return matched_company[0]\n",
    "    else:\n",
    "        return None"
   ]
  },
  {
   "cell_type": "code",
   "execution_count": 7,
   "metadata": {},
   "outputs": [],
   "source": [
    "def get_fiscal_period(heading_):\n",
    "    fiscal_period = re.findall('Q\\d\\s20\\d{2}', heading_)\n",
    "    if fiscal_period:\n",
    "        return fiscal_period[0]\n",
    "    else:\n",
    "        return None"
   ]
  },
  {
   "cell_type": "code",
   "execution_count": 8,
   "metadata": {},
   "outputs": [],
   "source": [
    "def get_period_ending(heading_):\n",
    "    try:\n",
    "        period_ = heading_.article.find(\"div\", {'class':'text'}).p.get_text()\n",
    "        period_ending = re.findall('period ending (.*)?', period_)\n",
    "    except:\n",
    "        period_ending = None\n",
    "    return period_ending[0]"
   ]
  },
  {
   "cell_type": "code",
   "execution_count": 9,
   "metadata": {},
   "outputs": [],
   "source": [
    "def get_transcript_date(heading_):\n",
    "    try:\n",
    "        footer_ = heading_.article.find(\"div\", {'class':'text'}).div.get_text()\n",
    "        transcript_date = footer_[footer_.index(\"|\")+2:]\n",
    "    except:\n",
    "        transcript_date = None\n",
    "    return transcript_date"
   ]
  },
  {
   "cell_type": "code",
   "execution_count": 10,
   "metadata": {},
   "outputs": [],
   "source": [
    "def get_transcript_list(pages_source):\n",
    "    pbar_page = tqdm(total=len(pages_source), ncols=1000, bar_format='{l_bar}{bar}{n_fmt}/{total_fmt}')\n",
    "    transcript_list = []\n",
    "    for page_num, page_source in enumerate(pages_source, 1):\n",
    "        pbar_page.update(1)\n",
    "        pbar_page.set_description(\"Processing page %s\" % page_num)\n",
    "        for heading_num, heading_ in enumerate(page_source.find_all('a')):\n",
    "            heading_title = heading_[\"title\"]\n",
    "            ticker_ = get_ticker_title(heading_title)\n",
    "            company_name = get_company_name(heading_title, ticker_)\n",
    "            fiscal_period = get_fiscal_period(heading_title)\n",
    "            period_ending = get_period_ending(heading_)\n",
    "            transcript_date_ = get_transcript_date(heading_)\n",
    "            heading_info = [ticker_, company_name, fiscal_period, period_ending, transcript_date_, heading_[\"href\"]]\n",
    "            transcript_list.append(heading_info)\n",
    "    return transcript_list"
   ]
  },
  {
   "cell_type": "code",
   "execution_count": 12,
   "metadata": {
    "scrolled": true
   },
   "outputs": [
    {
     "data": {
      "application/vnd.jupyter.widget-view+json": {
       "model_id": "7feb5ef4cf7e4251994242a3bb28c7b3",
       "version_major": 2,
       "version_minor": 0
      },
      "text/plain": [
       "HBox(children=(FloatProgress(value=0.0, layout=Layout(flex='2'), max=30.0), HTML(value='')), layout=Layout(dis…"
      ]
     },
     "metadata": {},
     "output_type": "display_data"
    },
    {
     "name": "stdout",
     "output_type": "stream",
     "text": [
      "600 transcripts\n"
     ]
    },
    {
     "data": {
      "text/plain": [
       "['NG',\n",
       " 'Novagold Resources Inc',\n",
       " 'Q2 2020',\n",
       " 'May 31, 2020.',\n",
       " 'Jun 25, 2020',\n",
       " '/earnings/call-transcripts/2020/06/25/novagold-resources-inc-ng-q2-2020-earnings-call-tr.aspx']"
      ]
     },
     "execution_count": 12,
     "metadata": {},
     "output_type": "execute_result"
    }
   ],
   "source": [
    "transcript_list = get_transcript_list(pages)\n",
    "print(f'{len(transcript_list)} transcripts')\n",
    "transcript_list[0]"
   ]
  },
  {
   "cell_type": "code",
   "execution_count": 13,
   "metadata": {},
   "outputs": [],
   "source": [
    "def get_transcript_sources(list_):\n",
    "    pbar = tqdm(total=len(list_), ncols=1000, bar_format='{l_bar}{bar}{n_fmt}/{total_fmt}')\n",
    "    transcripts_ = []\n",
    "    for ticker_, transcript_link in list_:\n",
    "        pbar.update(1)\n",
    "        pbar.set_description(\"Processing company %s\" % ticker_)\n",
    "        transcript_response = requests.get(f'{BASE_URL}{transcript_link}')\n",
    "        if transcript_response.status_code==403:\n",
    "            print(\"403\")\n",
    "            break\n",
    "        transcript_response_bs = BeautifulSoup(transcript_response.content, 'html.parser')\n",
    "        article_ = transcript_response_bs.find(\"span\", {\"class\":\"article-content\"})\n",
    "        transcripts_.append(article_)\n",
    "    return transcripts_"
   ]
  },
  {
   "cell_type": "code",
   "execution_count": 15,
   "metadata": {},
   "outputs": [
    {
     "data": {
      "application/vnd.jupyter.widget-view+json": {
       "model_id": "ba4baca9769e448693afadb736ec0f9d",
       "version_major": 2,
       "version_minor": 0
      },
      "text/plain": [
       "HBox(children=(FloatProgress(value=0.0, layout=Layout(flex='2'), max=600.0), HTML(value='')), layout=Layout(di…"
      ]
     },
     "metadata": {},
     "output_type": "display_data"
    },
    {
     "name": "stdout",
     "output_type": "stream",
     "text": [
      "600 transcripts processed\n"
     ]
    }
   ],
   "source": [
    "transcripts = get_transcript_sources([[transcript_[0], transcript_[5]] for transcript_ in transcript_list])\n",
    "print(f'{len(transcripts)} transcripts processed')"
   ]
  },
  {
   "cell_type": "code",
   "execution_count": 16,
   "metadata": {},
   "outputs": [],
   "source": [
    "def get_announcement_time(transcript_list, transcripts):\n",
    "    upload_times = []\n",
    "    for transcript_info, transcript in zip(transcript_list, transcripts):\n",
    "        all_text = transcript.get_text()\n",
    "        upload_date = transcript_info[4]\n",
    "        try:\n",
    "            upload_time = re.findall(f'{upload_date}' + ',\\s?([0-9]{1,2}:[0-9]{2}\\s[a|p]\\.m\\.)', all_text)[0]\n",
    "        except:\n",
    "            upload_time = None\n",
    "        upload_times.append(upload_time)\n",
    "    return upload_times"
   ]
  },
  {
   "cell_type": "code",
   "execution_count": 17,
   "metadata": {},
   "outputs": [],
   "source": [
    "def get_corpus_text(transcripts_):\n",
    "    corpuses = []\n",
    "    for ticker_, transcript_ in transcripts_:\n",
    "        first_speaker = transcript_.find(string=' -- ')\n",
    "        if not first_speaker:\n",
    "            print(\"No first speaker\", ticker_)\n",
    "            corpuses.append(None)\n",
    "            continue\n",
    "        all_para = first_speaker.find_parent().find_next_siblings('p')\n",
    "        complete_transcript = ' '.join([para.get_text() for para in all_para])\n",
    "        try:\n",
    "            complete_transcript = complete_transcript[:complete_transcript.index(\" Operator \")]\n",
    "            corpuses.append(complete_transcript)\n",
    "        except ValueError:\n",
    "            try:\n",
    "                complete_transcript = complete_transcript[:complete_transcript.lower().index(\"[operator instructions] \")]\n",
    "                corpuses.append(complete_transcript)\n",
    "            except ValueError:\n",
    "                print(f\"Check {ticker_}\")\n",
    "                corpuses.append(complete_transcript)\n",
    "    return corpuses"
   ]
  },
  {
   "cell_type": "code",
   "execution_count": 18,
   "metadata": {},
   "outputs": [
    {
     "data": {
      "text/plain": [
       "'11:00 a.m.'"
      ]
     },
     "execution_count": 18,
     "metadata": {},
     "output_type": "execute_result"
    }
   ],
   "source": [
    "announcement_times = get_announcement_time(transcript_list, transcripts)\n",
    "announcement_times[0]"
   ]
  },
  {
   "cell_type": "code",
   "execution_count": 28,
   "metadata": {},
   "outputs": [],
   "source": [
    "def get_transcript(transcript_list, transcripts):\n",
    "    pbar = tqdm(total=len(transcript_list), ncols=1000, bar_format='{l_bar}{bar}{n_fmt}/{total_fmt}')\n",
    "    corpuses = []\n",
    "    for transcript_info, transcript in zip(transcript_list, transcripts):\n",
    "        pbar.update(1)\n",
    "        pbar.set_description(\"Extracting transcript %s\" % transcript_info[0])\n",
    "        first_speaker = transcript.find(string=' -- ')\n",
    "        if not first_speaker:\n",
    "            corpuses.append(None)\n",
    "            continue\n",
    "        entire_corpus = first_speaker.find_parent().find_next_siblings()\n",
    "        corpuses.append(entire_corpus)\n",
    "    return corpuses"
   ]
  },
  {
   "cell_type": "code",
   "execution_count": 30,
   "metadata": {},
   "outputs": [],
   "source": [
    "def get_corpus(corpuses):\n",
    "    pbar = tqdm(total=len(corpuses), ncols=1000, bar_format='{l_bar}{bar}{n_fmt}/{total_fmt}')\n",
    "    pre_qas = []\n",
    "    for ind, corpus in enumerate(corpuses):\n",
    "        pbar.update(1)\n",
    "        pbar.set_description(\"Extracting prepared remarks #%s\" % ind)\n",
    "        if corpus:\n",
    "            cleaned_corpus = \" \".join([para.get_text() for para in corpus]).replace(\"\\n\", \" \").replace(\"&\", \"and\")\n",
    "            try:\n",
    "                cleaned_corpus_pre_qa = cleaned_corpus[:cleaned_corpus.index(\"Questions and Answers\")].strip()\n",
    "            except:\n",
    "                cleaned_corpus_pre_qa = None\n",
    "            pre_qas.append(cleaned_corpus_pre_qa)\n",
    "        else:\n",
    "            pre_qas.append(None)\n",
    "    return pre_qas"
   ]
  },
  {
   "cell_type": "code",
   "execution_count": 32,
   "metadata": {},
   "outputs": [],
   "source": [
    "def get_qa(corpuses):\n",
    "    pbar = tqdm(total=len(corpuses), ncols=1000, bar_format='{l_bar}{bar}{n_fmt}/{total_fmt}')\n",
    "    post_qas = []\n",
    "    for ind, corpus in enumerate(corpuses):\n",
    "        pbar.update(1)\n",
    "        pbar.set_description(\"Extracting Q&A #%s\" % ind)\n",
    "        if corpus:\n",
    "            qa_reg = re.compile(\".*Questions (and|&) Answers.*\")\n",
    "            try:\n",
    "                index_qa = [ind for ind, para in enumerate(corpus) if qa_reg.search(para.get_text())][0]\n",
    "                corpus_post_qa = corpus[index_qa:]\n",
    "                cleaned_corpus_post_qa = [para.get_text() for para in corpus_post_qa]\n",
    "                cleaned_corpus_post_qa = remove_analyst_comments(cleaned_corpus_post_qa)\n",
    "                cleaned_corpus_post_qa = remove_operator_comments(cleaned_corpus_post_qa)\n",
    "                cleaned_corpus_post_qa = remove_misc(cleaned_corpus_post_qa)\n",
    "                key_people, cleaned_corpus_post_qa = get_key_people(cleaned_corpus_post_qa)\n",
    "            except:\n",
    "                cleaned_corpus_post_qa = None\n",
    "        else:\n",
    "            cleaned_corpus_post_qa = None\n",
    "        post_qas.append([key_people, cleaned_corpus_post_qa])\n",
    "    return post_qas"
   ]
  },
  {
   "cell_type": "code",
   "execution_count": 33,
   "metadata": {},
   "outputs": [],
   "source": [
    "def remove_analyst_comments(cleaned_corpus_post_qa):\n",
    "    analyst_present = re.compile(\".*--\\sAnalyst\")\n",
    "    cleaned_corpus_check_analyst = [analyst_present.search(para) for para in cleaned_corpus_post_qa]\n",
    "    tracker_ = []\n",
    "    skip_ = False\n",
    "    for ind_, analyst_check in enumerate(cleaned_corpus_check_analyst):\n",
    "        if skip_:\n",
    "            tracker_.append(True)\n",
    "            skip_ = False\n",
    "            continue\n",
    "        else:\n",
    "            if analyst_check:\n",
    "                tracker_.append(True)\n",
    "                skip_ = True\n",
    "            else:\n",
    "                tracker_.append(False)\n",
    "    corpus_no_analyst = [line_ for check_, line_ in zip(tracker_, cleaned_corpus_post_qa) if not check_]\n",
    "    return corpus_no_analyst"
   ]
  },
  {
   "cell_type": "code",
   "execution_count": 34,
   "metadata": {},
   "outputs": [],
   "source": [
    "def remove_operator_comments(cleaned_corpus_post_qa):\n",
    "    operator_present = re.compile(\"Operator\")\n",
    "    cleaned_corpus_check_operator = [operator_present.search(para) for para in cleaned_corpus_post_qa]\n",
    "    tracker_ = []\n",
    "    skip_ = False\n",
    "    for ind_, operator_check in enumerate(cleaned_corpus_check_operator):\n",
    "        if skip_:\n",
    "            tracker_.append(True)\n",
    "            skip_ = False\n",
    "            continue\n",
    "        else:\n",
    "            if operator_check:\n",
    "                tracker_.append(True)\n",
    "                skip_ = True\n",
    "            else:\n",
    "                tracker_.append(False)\n",
    "    corpus_no_operator = [line_ for check_, line_ in zip(tracker_, cleaned_corpus_post_qa) if not check_]\n",
    "    return corpus_no_operator"
   ]
  },
  {
   "cell_type": "code",
   "execution_count": 35,
   "metadata": {},
   "outputs": [],
   "source": [
    "def remove_misc(cleaned_corpus_post_qa):\n",
    "    duration_compile = re.compile(\".*[D|d]uration:.*minute.*\")\n",
    "    call_participants_compile = re.compile(\".*[C|c]all participants.*\")\n",
    "    more_ticker_compile = re.compile(\"More\\s?[A-Z]{1,4}\\s?analysis\")\n",
    "    all_earnings_compile = re.compile(\".*[A|a]ll earnings call transcripts?.*\")\n",
    "    new_lines_compile = re.compile(\"(\\n)+\")\n",
    "    tracker_ = []\n",
    "    for line_ in cleaned_corpus_post_qa:\n",
    "        duration_check = duration_compile.search(line_)\n",
    "        call_participants_check = call_participants_compile.search(line_)\n",
    "        more_ticker_check = more_ticker_compile.search(line_)\n",
    "        all_earnings_check = all_earnings_compile.search(line_)\n",
    "        new_lines_check = new_lines_compile.search(line_)\n",
    "        if line_==\"\":\n",
    "            tracker_.append(True)\n",
    "        elif line_.lower()=='questions and answers:' or line_.lower()=='questions & answers:':\n",
    "            tracker_.append(True)\n",
    "        elif duration_check:\n",
    "            tracker_.append(True)\n",
    "        elif call_participants_check:\n",
    "            tracker_.append(True)\n",
    "        elif more_ticker_check:\n",
    "            tracker_.append(True)\n",
    "        elif all_earnings_check:\n",
    "            tracker_.append(True)\n",
    "        elif new_lines_check:\n",
    "            tracker_.append(True)\n",
    "        else:\n",
    "            tracker_.append(False)\n",
    "    corpus_no_misc = [line_ for check_, line_ in zip(tracker_, cleaned_corpus_post_qa) if not check_]\n",
    "    return corpus_no_misc"
   ]
  },
  {
   "cell_type": "code",
   "execution_count": 36,
   "metadata": {},
   "outputs": [],
   "source": [
    "def get_key_people(cleaned_corpus_post_qa):\n",
    "    person_title = re.compile(\"\\s--\\s[A-Z]\")\n",
    "    key_people = []\n",
    "    tracker_ = []\n",
    "    for line_ in cleaned_corpus_post_qa:\n",
    "        person_title_check = person_title.search(line_)\n",
    "        if person_title_check and len(line_)<100:\n",
    "            key_people.append(line_)\n",
    "            tracker_.append(True)\n",
    "        else:\n",
    "            tracker_.append(False)\n",
    "    key_people = list(set(key_people))\n",
    "    corpus_key_people = [line_ for check_, line_ in zip(tracker_, cleaned_corpus_post_qa) if not check_]\n",
    "    return key_people, corpus_key_people"
   ]
  },
  {
   "cell_type": "code",
   "execution_count": 29,
   "metadata": {},
   "outputs": [
    {
     "data": {
      "application/vnd.jupyter.widget-view+json": {
       "model_id": "330931df69b44c1ea594245d5082fae6",
       "version_major": 2,
       "version_minor": 0
      },
      "text/plain": [
       "HBox(children=(FloatProgress(value=0.0, layout=Layout(flex='2'), max=600.0), HTML(value='')), layout=Layout(di…"
      ]
     },
     "metadata": {},
     "output_type": "display_data"
    }
   ],
   "source": [
    "corpuses = get_transcript(transcript_list, transcripts)"
   ]
  },
  {
   "cell_type": "code",
   "execution_count": 31,
   "metadata": {
    "scrolled": false
   },
   "outputs": [
    {
     "data": {
      "application/vnd.jupyter.widget-view+json": {
       "model_id": "3696c4173b844f20ba1cc05f24577840",
       "version_major": 2,
       "version_minor": 0
      },
      "text/plain": [
       "HBox(children=(FloatProgress(value=0.0, layout=Layout(flex='2'), max=600.0), HTML(value='')), layout=Layout(di…"
      ]
     },
     "metadata": {},
     "output_type": "display_data"
    }
   ],
   "source": [
    "pre_qa = get_corpus(corpuses)"
   ]
  },
  {
   "cell_type": "code",
   "execution_count": 37,
   "metadata": {},
   "outputs": [
    {
     "data": {
      "application/vnd.jupyter.widget-view+json": {
       "model_id": "0ba18b3984e2470d9021ac9b0e5e26d1",
       "version_major": 2,
       "version_minor": 0
      },
      "text/plain": [
       "HBox(children=(FloatProgress(value=0.0, layout=Layout(flex='2'), max=600.0), HTML(value='')), layout=Layout(di…"
      ]
     },
     "metadata": {},
     "output_type": "display_data"
    }
   ],
   "source": [
    "people_post_qas = get_qa(corpuses)"
   ]
  },
  {
   "cell_type": "code",
   "execution_count": 39,
   "metadata": {
    "scrolled": true
   },
   "outputs": [],
   "source": [
    "# Combining all the information\n",
    "final_list = copy.deepcopy(transcript_list)\n",
    "_ = [final_list[ind].append(post_key_people) for ind, (post_key_people, post_) in enumerate(people_post_qas)]\n",
    "_ = [final_list[ind].append(pre_) for ind, pre_ in enumerate(pre_qa)]\n",
    "_ = [final_list[ind].append(post_) for ind, (post_key_people, post_) in enumerate(people_post_qas)]"
   ]
  },
  {
   "cell_type": "code",
   "execution_count": 44,
   "metadata": {},
   "outputs": [
    {
     "data": {
      "text/html": [
       "<div>\n",
       "<style scoped>\n",
       "    .dataframe tbody tr th:only-of-type {\n",
       "        vertical-align: middle;\n",
       "    }\n",
       "\n",
       "    .dataframe tbody tr th {\n",
       "        vertical-align: top;\n",
       "    }\n",
       "\n",
       "    .dataframe thead th {\n",
       "        text-align: right;\n",
       "    }\n",
       "</style>\n",
       "<table border=\"1\" class=\"dataframe\">\n",
       "  <thead>\n",
       "    <tr style=\"text-align: right;\">\n",
       "      <th></th>\n",
       "      <th>Ticker</th>\n",
       "      <th>Company</th>\n",
       "      <th>Fiscal_Date</th>\n",
       "      <th>Period_Ending</th>\n",
       "      <th>Transcript_Date</th>\n",
       "      <th>Transcript_Link</th>\n",
       "      <th>Key_People</th>\n",
       "      <th>Prepared_Remarks</th>\n",
       "      <th>QandA</th>\n",
       "    </tr>\n",
       "  </thead>\n",
       "  <tbody>\n",
       "    <tr>\n",
       "      <th>0</th>\n",
       "      <td>NG</td>\n",
       "      <td>Novagold Resources Inc</td>\n",
       "      <td>Q2 2020</td>\n",
       "      <td>May 31, 2020.</td>\n",
       "      <td>Jun 25, 2020</td>\n",
       "      <td>/earnings/call-transcripts/2020/06/25/novagold...</td>\n",
       "      <td>[Gregory A. Lang -- President &amp; Chief Executiv...</td>\n",
       "      <td>Thank you, Gillie, and good morning everyone. ...</td>\n",
       "      <td>[So, when you take into account proven and pro...</td>\n",
       "    </tr>\n",
       "    <tr>\n",
       "      <th>1</th>\n",
       "      <td>SNX</td>\n",
       "      <td>SYNNEX Corporation</td>\n",
       "      <td>Q2 2020</td>\n",
       "      <td>May 31, 2020.</td>\n",
       "      <td>Jun 25, 2020</td>\n",
       "      <td>/earnings/call-transcripts/2020/06/25/synnex-c...</td>\n",
       "      <td>[Marshall Witt -- Chief Financial Officer, Den...</td>\n",
       "      <td>Thank you, Chantal, and good afternoon everyon...</td>\n",
       "      <td>[Hi Vince. Thanks for the question. Yeah, for ...</td>\n",
       "    </tr>\n",
       "    <tr>\n",
       "      <th>2</th>\n",
       "      <td>PRGS</td>\n",
       "      <td>Progress Software</td>\n",
       "      <td>Q2 2020</td>\n",
       "      <td>March 31, 2020.</td>\n",
       "      <td>Jun 25, 2020</td>\n",
       "      <td>/earnings/call-transcripts/2020/06/25/progress...</td>\n",
       "      <td>[Brian Flanagan -- Vice President of Investor ...</td>\n",
       "      <td>Thank you, Nadia. Good afternoon, everyone, an...</td>\n",
       "      <td>[Thanks, Steve. I hope you're well, too., So S...</td>\n",
       "    </tr>\n",
       "    <tr>\n",
       "      <th>3</th>\n",
       "      <td>NKE</td>\n",
       "      <td>Nike Inc</td>\n",
       "      <td>Q4 2020</td>\n",
       "      <td>May 31, 2020.</td>\n",
       "      <td>Jun 25, 2020</td>\n",
       "      <td>/earnings/call-transcripts/2020/06/25/nike-inc...</td>\n",
       "      <td>[Andy Muir -- Vice President, Investor Relatio...</td>\n",
       "      <td>Thank you, operator. Hello, everyone, and than...</td>\n",
       "      <td>[Sure, Alexandra. In a funny way, I would char...</td>\n",
       "    </tr>\n",
       "    <tr>\n",
       "      <th>4</th>\n",
       "      <td>CAMP</td>\n",
       "      <td>CalAmp Corp</td>\n",
       "      <td>Q1 2021</td>\n",
       "      <td>May 31, 2020.</td>\n",
       "      <td>Jun 25, 2020</td>\n",
       "      <td>/earnings/call-transcripts/2020/06/25/calamp-c...</td>\n",
       "      <td>[Kurt Binder -- Executive Vice President and C...</td>\n",
       "      <td>Good afternoon and welcome to CalAmp's fiscal ...</td>\n",
       "      <td>[Thanks, Mike., Yeah, Mike. So, as you pointed...</td>\n",
       "    </tr>\n",
       "    <tr>\n",
       "      <th>...</th>\n",
       "      <td>...</td>\n",
       "      <td>...</td>\n",
       "      <td>...</td>\n",
       "      <td>...</td>\n",
       "      <td>...</td>\n",
       "      <td>...</td>\n",
       "      <td>...</td>\n",
       "      <td>...</td>\n",
       "      <td>...</td>\n",
       "    </tr>\n",
       "    <tr>\n",
       "      <th>595</th>\n",
       "      <td>TRTX</td>\n",
       "      <td>TPG RE Finance Trust, Inc.</td>\n",
       "      <td>Q1 2020</td>\n",
       "      <td>March 31, 2020.</td>\n",
       "      <td>May 12, 2020</td>\n",
       "      <td>/earnings/call-transcripts/2020/05/12/tpg-re-f...</td>\n",
       "      <td>[Bob Foley -- Chief Financial and Risk Officer...</td>\n",
       "      <td>Thank you, Deborah. Good morning, everyone. I ...</td>\n",
       "      <td>[19, the multifamily in Houston, if I have the...</td>\n",
       "    </tr>\n",
       "    <tr>\n",
       "      <th>596</th>\n",
       "      <td>CELH</td>\n",
       "      <td>Celsius Holdings Inc.</td>\n",
       "      <td>Q1 2020</td>\n",
       "      <td>March 31, 2020.</td>\n",
       "      <td>May 12, 2020</td>\n",
       "      <td>/earnings/call-transcripts/2020/05/12/celsius-...</td>\n",
       "      <td>[Bob Foley -- Chief Financial and Risk Officer...</td>\n",
       "      <td>None</td>\n",
       "      <td>None</td>\n",
       "    </tr>\n",
       "    <tr>\n",
       "      <th>597</th>\n",
       "      <td>AEE</td>\n",
       "      <td>Ameren Corp</td>\n",
       "      <td>Q1 2020</td>\n",
       "      <td>March 31, 2020.</td>\n",
       "      <td>May 12, 2020</td>\n",
       "      <td>/earnings/call-transcripts/2020/05/12/ameren-c...</td>\n",
       "      <td>[Warner L. Baxter -- Chairman, President and C...</td>\n",
       "      <td>Thank you, and good morning. On the call with ...</td>\n",
       "      <td>[Yeah. Thank you, Julien. Hope you're doing we...</td>\n",
       "    </tr>\n",
       "    <tr>\n",
       "      <th>598</th>\n",
       "      <td>IR</td>\n",
       "      <td>Ingersoll-Rand PLC</td>\n",
       "      <td>Q1 2020</td>\n",
       "      <td>March 31, 2020.</td>\n",
       "      <td>May 12, 2020</td>\n",
       "      <td>/earnings/call-transcripts/2020/05/12/ingersol...</td>\n",
       "      <td>[Emily Weaver -- Senior Vice President and Chi...</td>\n",
       "      <td>Thank you and welcome to the Ingersoll-Rand 20...</td>\n",
       "      <td>[Good morning, Andy. Good, and you?, Yeah, And...</td>\n",
       "    </tr>\n",
       "    <tr>\n",
       "      <th>599</th>\n",
       "      <td>ATCX</td>\n",
       "      <td>Atlas Technical Consultants, Inc.</td>\n",
       "      <td>Q1 2020</td>\n",
       "      <td>March 31, 2020.</td>\n",
       "      <td>May 12, 2020</td>\n",
       "      <td>/earnings/call-transcripts/2020/05/12/atlas-te...</td>\n",
       "      <td>[Walter George Powell -- Chief Financial Offic...</td>\n",
       "      <td>Good afternoon. Thank you all for joining us f...</td>\n",
       "      <td>[Good afternoon, Rob., Rob, that was in refere...</td>\n",
       "    </tr>\n",
       "  </tbody>\n",
       "</table>\n",
       "<p>600 rows × 9 columns</p>\n",
       "</div>"
      ],
      "text/plain": [
       "    Ticker                            Company Fiscal_Date    Period_Ending  \\\n",
       "0       NG             Novagold Resources Inc     Q2 2020    May 31, 2020.   \n",
       "1      SNX                 SYNNEX Corporation     Q2 2020    May 31, 2020.   \n",
       "2     PRGS                  Progress Software     Q2 2020  March 31, 2020.   \n",
       "3      NKE                           Nike Inc     Q4 2020    May 31, 2020.   \n",
       "4     CAMP                        CalAmp Corp     Q1 2021    May 31, 2020.   \n",
       "..     ...                                ...         ...              ...   \n",
       "595   TRTX         TPG RE Finance Trust, Inc.     Q1 2020  March 31, 2020.   \n",
       "596   CELH              Celsius Holdings Inc.     Q1 2020  March 31, 2020.   \n",
       "597    AEE                        Ameren Corp     Q1 2020  March 31, 2020.   \n",
       "598     IR                 Ingersoll-Rand PLC     Q1 2020  March 31, 2020.   \n",
       "599   ATCX  Atlas Technical Consultants, Inc.     Q1 2020  March 31, 2020.   \n",
       "\n",
       "    Transcript_Date                                    Transcript_Link  \\\n",
       "0      Jun 25, 2020  /earnings/call-transcripts/2020/06/25/novagold...   \n",
       "1      Jun 25, 2020  /earnings/call-transcripts/2020/06/25/synnex-c...   \n",
       "2      Jun 25, 2020  /earnings/call-transcripts/2020/06/25/progress...   \n",
       "3      Jun 25, 2020  /earnings/call-transcripts/2020/06/25/nike-inc...   \n",
       "4      Jun 25, 2020  /earnings/call-transcripts/2020/06/25/calamp-c...   \n",
       "..              ...                                                ...   \n",
       "595    May 12, 2020  /earnings/call-transcripts/2020/05/12/tpg-re-f...   \n",
       "596    May 12, 2020  /earnings/call-transcripts/2020/05/12/celsius-...   \n",
       "597    May 12, 2020  /earnings/call-transcripts/2020/05/12/ameren-c...   \n",
       "598    May 12, 2020  /earnings/call-transcripts/2020/05/12/ingersol...   \n",
       "599    May 12, 2020  /earnings/call-transcripts/2020/05/12/atlas-te...   \n",
       "\n",
       "                                            Key_People  \\\n",
       "0    [Gregory A. Lang -- President & Chief Executiv...   \n",
       "1    [Marshall Witt -- Chief Financial Officer, Den...   \n",
       "2    [Brian Flanagan -- Vice President of Investor ...   \n",
       "3    [Andy Muir -- Vice President, Investor Relatio...   \n",
       "4    [Kurt Binder -- Executive Vice President and C...   \n",
       "..                                                 ...   \n",
       "595  [Bob Foley -- Chief Financial and Risk Officer...   \n",
       "596  [Bob Foley -- Chief Financial and Risk Officer...   \n",
       "597  [Warner L. Baxter -- Chairman, President and C...   \n",
       "598  [Emily Weaver -- Senior Vice President and Chi...   \n",
       "599  [Walter George Powell -- Chief Financial Offic...   \n",
       "\n",
       "                                      Prepared_Remarks  \\\n",
       "0    Thank you, Gillie, and good morning everyone. ...   \n",
       "1    Thank you, Chantal, and good afternoon everyon...   \n",
       "2    Thank you, Nadia. Good afternoon, everyone, an...   \n",
       "3    Thank you, operator. Hello, everyone, and than...   \n",
       "4    Good afternoon and welcome to CalAmp's fiscal ...   \n",
       "..                                                 ...   \n",
       "595  Thank you, Deborah. Good morning, everyone. I ...   \n",
       "596                                               None   \n",
       "597  Thank you, and good morning. On the call with ...   \n",
       "598  Thank you and welcome to the Ingersoll-Rand 20...   \n",
       "599  Good afternoon. Thank you all for joining us f...   \n",
       "\n",
       "                                                 QandA  \n",
       "0    [So, when you take into account proven and pro...  \n",
       "1    [Hi Vince. Thanks for the question. Yeah, for ...  \n",
       "2    [Thanks, Steve. I hope you're well, too., So S...  \n",
       "3    [Sure, Alexandra. In a funny way, I would char...  \n",
       "4    [Thanks, Mike., Yeah, Mike. So, as you pointed...  \n",
       "..                                                 ...  \n",
       "595  [19, the multifamily in Houston, if I have the...  \n",
       "596                                               None  \n",
       "597  [Yeah. Thank you, Julien. Hope you're doing we...  \n",
       "598  [Good morning, Andy. Good, and you?, Yeah, And...  \n",
       "599  [Good afternoon, Rob., Rob, that was in refere...  \n",
       "\n",
       "[600 rows x 9 columns]"
      ]
     },
     "metadata": {},
     "output_type": "display_data"
    },
    {
     "name": "stdout",
     "output_type": "stream",
     "text": [
      "<class 'pandas.core.frame.DataFrame'>\n",
      "RangeIndex: 600 entries, 0 to 599\n",
      "Data columns (total 9 columns):\n",
      " #   Column            Non-Null Count  Dtype \n",
      "---  ------            --------------  ----- \n",
      " 0   Ticker            597 non-null    object\n",
      " 1   Company           597 non-null    object\n",
      " 2   Fiscal_Date       600 non-null    object\n",
      " 3   Period_Ending     600 non-null    object\n",
      " 4   Transcript_Date   600 non-null    object\n",
      " 5   Transcript_Link   600 non-null    object\n",
      " 6   Key_People        600 non-null    object\n",
      " 7   Prepared_Remarks  583 non-null    object\n",
      " 8   QandA             583 non-null    object\n",
      "dtypes: object(9)\n",
      "memory usage: 42.3+ KB\n"
     ]
    }
   ],
   "source": [
    "#final_df = pd.DataFrame(final_list, columns=['Ticker', 'Company', 'Fiscal_Date', 'Period_Ending', 'Transcript_Date', 'Transcript_Link',\n",
    "#                                             'Key_People', 'Prepared_Remarks', 'QandA'])\n",
    "display(final_df)\n",
    "final_df.info()"
   ]
  },
  {
   "cell_type": "code",
   "execution_count": null,
   "metadata": {},
   "outputs": [],
   "source": []
  }
 ],
 "metadata": {
  "kernelspec": {
   "display_name": "Python 3",
   "language": "python",
   "name": "python3"
  },
  "language_info": {
   "codemirror_mode": {
    "name": "ipython",
    "version": 3
   },
   "file_extension": ".py",
   "mimetype": "text/x-python",
   "name": "python",
   "nbconvert_exporter": "python",
   "pygments_lexer": "ipython3",
   "version": "3.7.3"
  }
 },
 "nbformat": 4,
 "nbformat_minor": 4
}
